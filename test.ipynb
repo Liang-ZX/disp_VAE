{
 "cells": [
  {
   "cell_type": "code",
   "execution_count": 1,
   "metadata": {
    "pycharm": {
     "is_executing": false
    }
   },
   "outputs": [],
   "source": [
    "import torch\n",
    "import torch.nn\n",
    "import argoverse\n",
    "import matplotlib.pyplot as plt\n",
    "import numpy as np\n",
    "%matplotlib inline"
   ]
  },
  {
   "cell_type": "code",
   "execution_count": 1,
   "metadata": {},
   "outputs": [],
   "source": [
    "import torch\n",
    "import os, shutil\n",
    "import numpy as np\n",
    "import glob"
   ]
  },
  {
   "cell_type": "code",
   "execution_count": 14,
   "metadata": {},
   "outputs": [],
   "source": [
    "with open(\"/home/liangzx/Datasets/kitti/object/splits/train.txt\") as f:\n",
    "    ids = np.loadtxt(f).astype(np.int16)"
   ]
  },
  {
   "cell_type": "code",
   "execution_count": 15,
   "metadata": {},
   "outputs": [],
   "source": [
    "for i in ids:\n",
    "    index = \"%06d\" % i\n",
    "    pcd_path = \"./datasets/roi_result/left/\" + index\n",
    "    shutil.move(pcd_path, \"./datasets/roi_result/left/train/\")"
   ]
  },
  {
   "cell_type": "code",
   "execution_count": 6,
   "metadata": {},
   "outputs": [],
   "source": [
    "a = a.transpose(1,2)"
   ]
  },
  {
   "cell_type": "code",
   "execution_count": 12,
   "metadata": {},
   "outputs": [],
   "source": [
    "b = torch.mean(a, dim=2, keepdim=True)"
   ]
  },
  {
   "cell_type": "code",
   "execution_count": 15,
   "metadata": {},
   "outputs": [],
   "source": [
    "c = a - b"
   ]
  },
  {
   "cell_type": "code",
   "execution_count": 16,
   "metadata": {},
   "outputs": [
    {
     "data": {
      "text/plain": [
       "torch.Size([5, 3, 3000])"
      ]
     },
     "execution_count": 16,
     "metadata": {},
     "output_type": "execute_result"
    }
   ],
   "source": [
    "c.shape"
   ]
  },
  {
   "cell_type": "code",
   "execution_count": null,
   "metadata": {},
   "outputs": [],
   "source": []
  },
  {
   "cell_type": "code",
   "execution_count": 25,
   "metadata": {},
   "outputs": [],
   "source": [
    "def read_pcd(pcd_path):\n",
    "    lines = []\n",
    "    num_points = None\n",
    "\n",
    "    with open(pcd_path, 'r') as f:\n",
    "        for line in f:\n",
    "            lines.append(line.strip())\n",
    "            if line.startswith('POINTS'):\n",
    "                num_points = int(line.split()[-1])\n",
    "    assert num_points is not None\n",
    "\n",
    "    points = []\n",
    "    for line in lines[-num_points:]:\n",
    "        x, y, z = list(map(float, line.split()))\n",
    "        points.append(np.array([x, y, z]))\n",
    "    return np.array(points)  # N * 3\n",
    "\n",
    "def load_pcd_to_ndarray(pcd_path):\n",
    "    with open(pcd_path) as f:\n",
    "        while True:\n",
    "            ln = f.readline().strip()\n",
    "            if ln.startswith('DATA'):\n",
    "                break\n",
    "\n",
    "        points = np.loadtxt(f)\n",
    "        points = points[:, 0:3]\n",
    "        return points"
   ]
  },
  {
   "cell_type": "code",
   "execution_count": 26,
   "metadata": {},
   "outputs": [],
   "source": [
    "HEADER = '''\\\n",
    "# .PCD v0.7 - Point Cloud Data file format\n",
    "VERSION 0.7\n",
    "FIELDS x y z\n",
    "SIZE 4 4 4 \n",
    "TYPE F F F \n",
    "COUNT 1 1 1 \n",
    "WIDTH {}\n",
    "HEIGHT 1\n",
    "VIEWPOINT 0 0 0 1 0 0 0\n",
    "POINTS {}\n",
    "DATA ascii\n",
    "'''\n",
    "\n",
    "def write_pcd(points, save_pcd_path):\n",
    "    n = len(points)\n",
    "    lines = []\n",
    "    for i in range(n):\n",
    "        x, y, z= points[i]\n",
    "        lines.append('{:.6f} {:.6f} {:.6f}'.format(x, y, z))\n",
    "    with open(save_pcd_path, 'w') as f:\n",
    "        f.write(HEADER.format(n, n))\n",
    "        f.write('\\n'.join(lines))\n",
    "\n",
    "def write_pcd_from_ndarray(points, save_pcd_path):\n",
    "    with open(save_pcd_path, 'w') as f:\n",
    "        f.write(HEADER.format(len(points), len(points)) + '\\n')\n",
    "        np.savetxt(f, points, delimiter = ' ', fmt = '%f %f %f')"
   ]
  },
  {
   "cell_type": "code",
   "execution_count": 2,
   "metadata": {
    "pycharm": {
     "is_executing": false,
     "name": "#%%\n"
    }
   },
   "outputs": [],
   "source": [
    "from argoverse.map_representation.map_api import ArgoverseMap\n",
    "am = ArgoverseMap()"
   ]
  },
  {
   "cell_type": "code",
   "execution_count": 5,
   "metadata": {},
   "outputs": [
    {
     "data": {
      "image/svg+xml": [
       "<svg xmlns=\"http://www.w3.org/2000/svg\" xmlns:xlink=\"http://www.w3.org/1999/xlink\" width=\"100.0\" height=\"100.0\" viewBox=\"3156.56235511159 1664.154271726894 13.25045639281825 12.426348862493569\" preserveAspectRatio=\"xMinYMin meet\"><g transform=\"matrix(1,0,0,-1,0,3340.7348923162817)\"><path fill-rule=\"evenodd\" fill=\"#66cc99\" stroke=\"#555555\" stroke-width=\"0.265009127856365\" opacity=\"0.6\" d=\"M 3169.32205386023,1673.238121017163 L 3168.2379004551062,1672.2833230470678 L 3167.1537470499825,1671.3285250769725 L 3166.069589474398,1670.3737234340247 L 3164.9854161071908,1669.4189191446583 L 3163.901233229195,1668.4641340072399 L 3162.8170605463006,1667.509357848198 L 3161.7328878634066,1666.5545816891563 L 3160.6487151805127,1665.5998055301145 L 3159.5645424976187,1664.6450293710725 L 3157.0531127557683,1667.4968219041555 L 3158.1372854386623,1668.4515980631975 L 3159.221458121556,1669.4063742222397 L 3160.305630804451,1670.3611503812815 L 3161.3898034873446,1671.3159265403233 L 3162.4739659751376,1672.2706937209894 L 3163.5581106113264,1673.2254727077766 L 3164.6422598459894,1674.180267005019 L 3165.726413251113,1675.135064975114 L 3166.810566656236,1676.089862945209 L 3169.32205386023,1673.238121017163 z\" /></g></svg>"
      ],
      "text/plain": [
       "<shapely.geometry.polygon.Polygon at 0x7ff432ab17d0>"
      ]
     },
     "metadata": {},
     "output_type": "display_data"
    }
   ],
   "source": [
    "from shapely.geometry.polygon import Polygon\n",
    "display(Polygon(am.find_local_lane_polygons([3167-20,3167+20,1673-20,1673+20], 'PIT')[0]))"
   ]
  },
  {
   "cell_type": "code",
   "execution_count": null,
   "metadata": {
    "pycharm": {
     "is_executing": false
    }
   },
   "outputs": [],
   "source": [
    "tracking_dataset_dir = \"/home/liangzx/Datasets/Argoverse/forecasting_sample/data/\"\n",
    "from argoverse.data_loading.argoverse_tracking_loader import ArgoverseTrackingLoader\n",
    "\n",
    "log_index = 2645\n",
    "frame_index = 100\n",
    "idx = 100\n",
    "argoverse_loader = ArgoverseTrackingLoader(tracking_dataset_dir)\n",
    "log_id = argoverse_loader.log_list[log_index]\n",
    "argoverse_data = argoverse_loader[log_index]\n",
    "city_name = argoverse_data.city_name\n",
    "\n",
    "lidar_pts = argoverse_data.get_lidar(idx)"
   ]
  },
  {
   "cell_type": "code",
   "execution_count": 12,
   "metadata": {},
   "outputs": [
    {
     "data": {
      "image/png": "[encoded data removed]",
      "text/plain": [
       "<Figure size 432x288 with 1 Axes>"
      ]
     },
     "metadata": {
      "needs_background": "light"
     },
     "output_type": "display_data"
    }
   ],
   "source": [
    "ax = plt.subplot(1,1,1)\n",
    "am.plot_nearby_halluc_lanes(ax, 'PIT', 3167, 1673, patch_color='r', radius=20)"
   ]
  },
  {
   "cell_type": "code",
   "execution_count": null,
   "metadata": {},
   "outputs": [],
   "source": []
  }
 ],
 "metadata": {
  "kernelspec": {
   "display_name": "Python [conda env:sassd]",
   "language": "python",
   "name": "conda-env-sassd-py"
  },
  "language_info": {
   "codemirror_mode": {
    "name": "ipython",
    "version": 3
   },
   "file_extension": ".py",
   "mimetype": "text/x-python",
   "name": "python",
   "nbconvert_exporter": "python",
   "pygments_lexer": "ipython3",
   "version": "3.7.6"
  },
  "pycharm": {
   "stem_cell": {
    "cell_type": "raw",
    "metadata": {
     "collapsed": false
    },
    "source": []
   }
  }
 },
 "nbformat": 4,
 "nbformat_minor": 1
}
